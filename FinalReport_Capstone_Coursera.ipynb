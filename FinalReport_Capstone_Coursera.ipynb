{
 "cells": [
  {
   "cell_type": "markdown",
   "metadata": {},
   "source": [
    "<h1 align=\"center\" style=\"color:yellow;font-size:40px;\">Opening a Restaurant in West Hyderabad, Telanagana, India</h1>"
   ]
  },
  {
   "cell_type": "markdown",
   "metadata": {},
   "source": [
    "## **1.Introduction/ Business Problem**\n",
    "##### There are more than 2000 restaurants in *Greater Hyderabad region*. Hence, to open any kind of restaurant in the city will be a challenging task for the investor. Here we concentrate on the west region of the Hyderabad City for convinience. Choosing a restaurant type and a good spot, an entrepreneur usually carelessly relies on common sense, gut feeling and domain knowledge. Needless to say that too often an inconsiderate decision leads to a poor income and inevitable bankruptcy. According to several surveys, up to 50% of such start-ups fail in the very first year. Let's suppose, an investor has enough time and money, as well as a passion to open the best eating spot in Hyderabad. For the past 5 years we have seen a significant increase in the business related to canteens and restaurants. So, we will have a better insight if we can answer the following\n",
    "##### *What type of restaurant would it be? What would be the best place for it? Is there a better way to answer these questions rather than guessing?*\n",
    "##### What if there is a way to cluster city neighborhoods, based on their near-by restaurant similarity? What if we can visualize these clusters on a map? What if we might find what type of restaurant is the most and least popular in each location? Equipped with that knowledge, we might be able to make a smart choice from a huge number of restaurant types and available places.Let us allow machine learning to get the job done. Using reliable venue data, it can investigate the city neighborhoods, and show us unseen dependencies. Dependencies that we are not aware of."
   ]
  },
  {
   "cell_type": "markdown",
   "metadata": {},
   "source": [
    "## **2. Description of the Data**\n",
    "> 1. Selection of the Neighborhoods in the west Hyderabad and by preparing the list of neighborhoods we can collect the geographical information.\n",
    "> 2. Selected neighborhoods are as follows.\n",
    ">> Gachibowli, Lingampally, Hitech City, Madhapur, KPHB Colony, BHEL, Chandanagar, Miyapur, Madinaguda, Masjid Banda, Kothaguda, Nizampet, Hafeezpet, Kondapur\n",
    "> 3. By using the *Geopy* library we can get the location coordinates of each neighborhood in the list.\n",
    "> 4. Later we will use *FourSquare8 API to get *Venue* dat at each neighborhoods.\n",
    "> 5. Perform the *unsupervised learning* algorithm K-means clustering and name the clusters by analysing the venues in each clsuter."
   ]
  }
 ],
 "metadata": {
  "kernelspec": {
   "display_name": "Python 3",
   "language": "python",
   "name": "python3"
  },
  "language_info": {
   "codemirror_mode": {
    "name": "ipython",
    "version": 3
   },
   "file_extension": ".py",
   "mimetype": "text/x-python",
   "name": "python",
   "nbconvert_exporter": "python",
   "pygments_lexer": "ipython3",
   "version": "3.7.7"
  }
 },
 "nbformat": 4,
 "nbformat_minor": 4
}
